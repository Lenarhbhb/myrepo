{
  "nbformat": 4,
  "nbformat_minor": 0,
  "metadata": {
    "colab": {
      "provenance": []
    },
    "kernelspec": {
      "name": "python3",
      "display_name": "Python 3"
    },
    "language_info": {
      "name": "python"
    }
  },
  "cells": [
    {
      "cell_type": "code",
      "execution_count": null,
      "metadata": {
        "id": "_rscl0aH3g5w"
      },
      "outputs": [],
      "source": [
        "import numpy as np\n"
      ]
    },
    {
      "cell_type": "markdown",
      "source": [
        "Задача 1"
      ],
      "metadata": {
        "id": "dxPcNyw96o78"
      }
    },
    {
      "cell_type": "code",
      "source": [
        "A = np.array([[1,2,1],\n",
        "              [-2,1,1]])\n",
        "\n",
        "B = np.array([[3,1],\n",
        "              [-1,0],\n",
        "              [2,4]])\n",
        "\n",
        "C = np.array([[-2,2],\n",
        "              [1,-1],\n",
        "              [1,2]])"
      ],
      "metadata": {
        "id": "rALEyV1t3oEi"
      },
      "execution_count": null,
      "outputs": []
    },
    {
      "cell_type": "code",
      "source": [
        "def maxrix_calc(A,B):\n",
        "  try:\n",
        "    res1= A+2*B\n",
        "  except:\n",
        "    res1 = 'Матрицу имеют разную размерность'\n",
        "  finally:\n",
        "    print(res1)\n"
      ],
      "metadata": {
        "id": "ZDrp1Tq94Q-z"
      },
      "execution_count": null,
      "outputs": []
    },
    {
      "cell_type": "code",
      "source": [
        "maxrix_calc(A,B)"
      ],
      "metadata": {
        "colab": {
          "base_uri": "https://localhost:8080/"
        },
        "id": "moHg9ZMS5G4L",
        "outputId": "d8fb4781-bc51-4238-a232-e5959a522b54"
      },
      "execution_count": null,
      "outputs": [
        {
          "output_type": "stream",
          "name": "stdout",
          "text": [
            "Матрицу имеют разную размерность\n"
          ]
        }
      ]
    },
    {
      "cell_type": "code",
      "source": [
        "maxrix_calc(B,C)"
      ],
      "metadata": {
        "colab": {
          "base_uri": "https://localhost:8080/"
        },
        "id": "xoMEei8F5_u0",
        "outputId": "30963842-e47a-4ab0-d6f2-e9a3d9e582be"
      },
      "execution_count": null,
      "outputs": [
        {
          "output_type": "stream",
          "name": "stdout",
          "text": [
            "[[-1  5]\n",
            " [ 1 -2]\n",
            " [ 4  8]]\n"
          ]
        }
      ]
    },
    {
      "cell_type": "markdown",
      "source": [
        "Задача 2"
      ],
      "metadata": {
        "id": "pPNC6Vki6rVT"
      }
    },
    {
      "cell_type": "code",
      "source": [
        "A = []\n",
        "line = np.zeros(8)\n",
        "for i in range(8):\n",
        "  A.append(line)\n",
        "B =np.array(A)\n",
        "\n",
        "\n",
        "value = 0\n",
        "for i in range(len(B)):\n",
        "  value+=1\n",
        "  for j in range(len(B[i])):\n",
        "    if value >= 1:\n",
        "      value-=1\n",
        "      B[i][j] = value\n",
        "    else:\n",
        "      value+=1\n",
        "      B[i][j] = value\n",
        "print(B)"
      ],
      "metadata": {
        "colab": {
          "base_uri": "https://localhost:8080/"
        },
        "id": "3tYJHCm-6u4z",
        "outputId": "2d085da6-a61c-4cb2-a693-fe07838b79ed"
      },
      "execution_count": null,
      "outputs": [
        {
          "output_type": "stream",
          "name": "stdout",
          "text": [
            "[[0. 1. 0. 1. 0. 1. 0. 1.]\n",
            " [1. 0. 1. 0. 1. 0. 1. 0.]\n",
            " [0. 1. 0. 1. 0. 1. 0. 1.]\n",
            " [1. 0. 1. 0. 1. 0. 1. 0.]\n",
            " [0. 1. 0. 1. 0. 1. 0. 1.]\n",
            " [1. 0. 1. 0. 1. 0. 1. 0.]\n",
            " [0. 1. 0. 1. 0. 1. 0. 1.]\n",
            " [1. 0. 1. 0. 1. 0. 1. 0.]]\n"
          ]
        }
      ]
    },
    {
      "cell_type": "markdown",
      "source": [
        "Задача **3**"
      ],
      "metadata": {
        "id": "5IImis9tAWxU"
      }
    },
    {
      "cell_type": "code",
      "source": [
        "vec1 = np.linspace(0.0,1.4,15)\n",
        "vec2 = np.linspace(1,6,6)\n",
        "\n",
        "A = vec1.reshape(5,3)\n",
        "B = vec2.reshape(3,2)\n",
        "print('A=',A)\n",
        "print('B=',B)\n",
        "mult = np.dot(A,B)\n",
        "print('A*B=',mult)\n"
      ],
      "metadata": {
        "colab": {
          "base_uri": "https://localhost:8080/"
        },
        "id": "yu59Dh87AZcU",
        "outputId": "23a11e8b-8f3f-45f4-8d44-a00822818389"
      },
      "execution_count": null,
      "outputs": [
        {
          "output_type": "stream",
          "name": "stdout",
          "text": [
            "A= [[0.  0.1 0.2]\n",
            " [0.3 0.4 0.5]\n",
            " [0.6 0.7 0.8]\n",
            " [0.9 1.  1.1]\n",
            " [1.2 1.3 1.4]]\n",
            "B= [[1. 2.]\n",
            " [3. 4.]\n",
            " [5. 6.]]\n",
            "A*B= [[ 1.3  1.6]\n",
            " [ 4.   5.2]\n",
            " [ 6.7  8.8]\n",
            " [ 9.4 12.4]\n",
            " [12.1 16. ]]\n"
          ]
        }
      ]
    },
    {
      "cell_type": "markdown",
      "source": [
        "Задача 4\n"
      ],
      "metadata": {
        "id": "w1c_emA8HGW1"
      }
    },
    {
      "cell_type": "code",
      "source": [
        "A= np.arange(1,37,1)\n",
        "print(A)\n",
        "\n",
        "for i in A:\n",
        "  if i%3 ==0:\n",
        "    print(i)"
      ],
      "metadata": {
        "colab": {
          "base_uri": "https://localhost:8080/"
        },
        "id": "PjSRFagiHREe",
        "outputId": "6ec29eae-e024-4060-fc4f-946d25260f5d"
      },
      "execution_count": null,
      "outputs": [
        {
          "output_type": "stream",
          "name": "stdout",
          "text": [
            "[ 1  2  3  4  5  6  7  8  9 10 11 12 13 14 15 16 17 18 19 20 21 22 23 24\n",
            " 25 26 27 28 29 30 31 32 33 34 35 36]\n",
            "3\n",
            "6\n",
            "9\n",
            "12\n",
            "15\n",
            "18\n",
            "21\n",
            "24\n",
            "27\n",
            "30\n",
            "33\n",
            "36\n"
          ]
        }
      ]
    }
  ]
}