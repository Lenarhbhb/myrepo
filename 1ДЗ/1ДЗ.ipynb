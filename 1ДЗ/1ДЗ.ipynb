{
  "nbformat": 4,
  "nbformat_minor": 0,
  "metadata": {
    "colab": {
      "provenance": []
    },
    "kernelspec": {
      "name": "python3",
      "display_name": "Python 3"
    },
    "language_info": {
      "name": "python"
    }
  },
  "cells": [
    {
      "cell_type": "markdown",
      "source": [
        "Задание **1**"
      ],
      "metadata": {
        "id": "bh72jVWHkUGY"
      }
    },
    {
      "cell_type": "code",
      "execution_count": null,
      "metadata": {
        "id": "hiOEickGo08t"
      },
      "outputs": [],
      "source": [
        "a = [6, -8, 3]\n",
        "b = [[1],[1],[4]]\n"
      ]
    },
    {
      "cell_type": "code",
      "source": [
        "c = a[0]*b[0][0] + a[1]*b[1][0]+ a[2]*b[2][0]"
      ],
      "metadata": {
        "id": "55NExF9Tsz3J"
      },
      "execution_count": null,
      "outputs": []
    },
    {
      "cell_type": "code",
      "source": [
        "print(c)\n"
      ],
      "metadata": {
        "colab": {
          "base_uri": "https://localhost:8080/"
        },
        "id": "RqmQCetBqqKw",
        "outputId": "c5c29620-8525-498d-f86d-5d1dbd08d1b8"
      },
      "execution_count": null,
      "outputs": [
        {
          "output_type": "stream",
          "name": "stdout",
          "text": [
            "10\n"
          ]
        }
      ]
    },
    {
      "cell_type": "markdown",
      "source": [
        "Задание **2**"
      ],
      "metadata": {
        "id": "moBNoqPlkaAP"
      }
    },
    {
      "cell_type": "code",
      "source": [
        "x = [[-3,-7],\n",
        "     [-10,6],\n",
        "     [0,-6],\n",
        "     [-1,-3]]\n",
        "\n",
        "y = [[-8,9],\n",
        "     [4,-2]]\n"
      ],
      "metadata": {
        "id": "EZ4LVoRDuSr2"
      },
      "execution_count": null,
      "outputs": []
    },
    {
      "cell_type": "code",
      "source": [
        "z = [[x[0][0]*y[0][0] + x[0][1]*y[1][0],x[0][0]*y[0][1] + x[0][1]*y[1][1]],\n",
        "     [x[1][0]*y[0][0] + x[1][1]*y[1][0],x[1][0]*y[0][1] + x[1][1]*y[1][1]],\n",
        "     [x[2][0]*y[0][0] + x[2][1]*y[1][0],x[2][0]*y[0][1] + x[2][1]*y[1][1]],\n",
        "     [x[3][0]*y[0][0] + x[3][1]*y[1][0],x[3][0]*y[0][1] + x[3][1]*y[1][1]]]\n",
        "\n",
        "print(z)"
      ],
      "metadata": {
        "id": "ShxYojSZvsOo",
        "colab": {
          "base_uri": "https://localhost:8080/"
        },
        "outputId": "cfc1715d-d8b3-45c7-bb52-7d805bf9d8d1"
      },
      "execution_count": null,
      "outputs": [
        {
          "output_type": "stream",
          "name": "stdout",
          "text": [
            "[[-4, -13], [104, -102], [-24, 12], [-4, -3]]\n"
          ]
        }
      ]
    },
    {
      "cell_type": "code",
      "source": [],
      "metadata": {
        "id": "7Orev-w9mxlr"
      },
      "execution_count": null,
      "outputs": []
    }
  ]
}